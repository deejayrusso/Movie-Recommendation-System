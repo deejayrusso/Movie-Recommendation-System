{
 "cells": [
  {
   "cell_type": "code",
   "execution_count": 1,
   "metadata": {},
   "outputs": [],
   "source": [
    "#import pandas as pd\n",
    "import os\n",
    "from surprise import SVD, KNNBasic\n",
    "from surprise import Dataset, Reader\n",
    "from surprise import BaselineOnly\n",
    "from surprise.model_selection import cross_validate, GridSearchCV"
   ]
  },
  {
   "cell_type": "code",
   "execution_count": 2,
   "metadata": {},
   "outputs": [],
   "source": [
    "# specify where file is\n",
    "filepath = os.path.expanduser('/Users/djdit/OneDrive - University of South Florida/Data Mining/Project/Movie-Recommendation-System/ml-latest-small/ratings.csv')\n",
    "\n",
    "#Define reader (Dataset package requirement for reading  in file)\n",
    "#Defining columns, seperator, rating scale, and skipping 1st row since it is headers\n",
    "reader = Reader(line_format = 'user item rating timestamp', sep = ',', rating_scale=(1,5), skip_lines=1)"
   ]
  },
  {
   "cell_type": "code",
   "execution_count": 3,
   "metadata": {},
   "outputs": [],
   "source": [
    "# Load in dataset object\n",
    "data = Dataset.load_from_file(filepath, reader=reader )"
   ]
  },
  {
   "cell_type": "markdown",
   "metadata": {},
   "source": [
    "SVD Algorithm:\n",
    "\n",
    "https://surprise.readthedocs.io/en/stable/matrix_factorization.html#unbiased-note"
   ]
  },
  {
   "cell_type": "code",
   "execution_count": 4,
   "metadata": {},
   "outputs": [
    {
     "name": "stdout",
     "output_type": "stream",
     "text": [
      "Evaluating RMSE, MAE of algorithm SVD on 5 split(s).\n",
      "\n",
      "                  Fold 1  Fold 2  Fold 3  Fold 4  Fold 5  Mean    Std     \n",
      "RMSE (testset)    0.8742  0.8870  0.8724  0.8671  0.8682  0.8738  0.0071  \n",
      "MAE (testset)     0.6715  0.6802  0.6706  0.6680  0.6689  0.6718  0.0043  \n",
      "Fit time          3.49    3.47    3.47    3.52    3.60    3.51    0.05    \n",
      "Test time         0.16    0.16    0.10    0.13    0.15    0.14    0.02    \n"
     ]
    },
    {
     "data": {
      "text/plain": [
       "{'test_rmse': array([0.87424678, 0.88701746, 0.87236883, 0.86713253, 0.8682221 ]),\n",
       " 'test_mae': array([0.67151369, 0.68016774, 0.67058153, 0.66803299, 0.66892746]),\n",
       " 'fit_time': (3.487036943435669,\n",
       "  3.470679998397827,\n",
       "  3.4676778316497803,\n",
       "  3.524589776992798,\n",
       "  3.5974273681640625),\n",
       " 'test_time': (0.15959906578063965,\n",
       "  0.15718436241149902,\n",
       "  0.10386896133422852,\n",
       "  0.13427948951721191,\n",
       "  0.14982247352600098)}"
      ]
     },
     "execution_count": 4,
     "metadata": {},
     "output_type": "execute_result"
    }
   ],
   "source": [
    "# Choose SVD algorithm\n",
    "algo = SVD()\n",
    "\n",
    "# Run 5-fold cross-validation and print results\n",
    "cross_validate(algo, data, measures=['RMSE', 'MAE'], cv=5, verbose=True)"
   ]
  },
  {
   "cell_type": "code",
   "execution_count": 5,
   "metadata": {},
   "outputs": [
    {
     "name": "stdout",
     "output_type": "stream",
     "text": [
      "Best RMSE:  0.8899986449506466\n",
      "RMSE Params:  {'n_epochs': 10, 'lr_all': 0.005, 'reg_all': 0.4}\n",
      "Best MAE =  0.6887468857443706\n",
      "MAE Params:  {'n_epochs': 10, 'lr_all': 0.005, 'reg_all': 0.4}\n"
     ]
    }
   ],
   "source": [
    "# Tune with GridSearchCV to see if results are improved\n",
    "param_grid = {'n_epochs': [5,10], 'lr_all': [0.002, 0.005], 'reg_all': [0.4, 0.6]}\n",
    "\n",
    "gs = GridSearchCV(SVD, param_grid, measures=['rmse', 'mae'], cv=5)\n",
    "gs.fit(data)\n",
    "\n",
    "# Show best score and parameters that gave best rmse\n",
    "print(\"Best RMSE: \", gs.best_score['rmse'])\n",
    "print(\"RMSE Params: \", gs.best_params['rmse'])\n",
    "print(\"Best MAE = \", gs.best_score['mae'])\n",
    "print(\"MAE Params: \", gs.best_params['mae'])"
   ]
  },
  {
   "cell_type": "code",
   "execution_count": 6,
   "metadata": {},
   "outputs": [
    {
     "name": "stdout",
     "output_type": "stream",
     "text": [
      "Computing the cosine similarity matrix...\n",
      "Done computing similarity matrix.\n",
      "Computing the cosine similarity matrix...\n",
      "Done computing similarity matrix.\n",
      "Computing the cosine similarity matrix...\n",
      "Done computing similarity matrix.\n",
      "Computing the cosine similarity matrix...\n",
      "Done computing similarity matrix.\n",
      "Computing the cosine similarity matrix...\n",
      "Done computing similarity matrix.\n",
      "Evaluating RMSE, MAE of algorithm KNNBasic on 5 split(s).\n",
      "\n",
      "                  Fold 1  Fold 2  Fold 3  Fold 4  Fold 5  Mean    Std     \n",
      "RMSE (testset)    0.9726  0.9784  0.9801  0.9747  0.9797  0.9771  0.0030  \n",
      "MAE (testset)     0.7560  0.7627  0.7637  0.7579  0.7662  0.7613  0.0038  \n",
      "Fit time          13.30   13.50   13.33   13.46   13.17   13.35   0.12    \n",
      "Test time         5.28    5.62    5.27    5.71    5.44    5.46    0.18    \n"
     ]
    },
    {
     "data": {
      "text/plain": [
       "{'test_rmse': array([0.97255735, 0.97843684, 0.98006559, 0.97471595, 0.97970387]),\n",
       " 'test_mae': array([0.75599679, 0.76267593, 0.76365563, 0.75791566, 0.76618722]),\n",
       " 'fit_time': (13.299304008483887,\n",
       "  13.503310918807983,\n",
       "  13.328357458114624,\n",
       "  13.460290431976318,\n",
       "  13.1718590259552),\n",
       " 'test_time': (5.280069828033447,\n",
       "  5.615118741989136,\n",
       "  5.267477035522461,\n",
       "  5.713312387466431,\n",
       "  5.435458421707153)}"
      ]
     },
     "execution_count": 6,
     "metadata": {},
     "output_type": "execute_result"
    }
   ],
   "source": [
    "#Basic Knn using cosine similarity\n",
    "\n",
    "sim_options = {'name': 'cosine', 'user_based': False}\n",
    "\n",
    "algo = KNNBasic(sim_options=sim_options)\n",
    "\n",
    "# Run 5-fold cross-validation and print results\n",
    "cross_validate(algo, data, measures=['RMSE', 'MAE'], cv=5, verbose=True)"
   ]
  },
  {
   "cell_type": "code",
   "execution_count": 7,
   "metadata": {},
   "outputs": [
    {
     "name": "stdout",
     "output_type": "stream",
     "text": [
      "Computing the msd similarity matrix...\n",
      "Done computing similarity matrix.\n",
      "Computing the msd similarity matrix...\n",
      "Done computing similarity matrix.\n",
      "Computing the msd similarity matrix...\n",
      "Done computing similarity matrix.\n",
      "Computing the msd similarity matrix...\n",
      "Done computing similarity matrix.\n",
      "Computing the msd similarity matrix...\n",
      "Done computing similarity matrix.\n",
      "Computing the msd similarity matrix...\n",
      "Done computing similarity matrix.\n",
      "Computing the msd similarity matrix...\n",
      "Done computing similarity matrix.\n",
      "Computing the msd similarity matrix...\n",
      "Done computing similarity matrix.\n",
      "Computing the msd similarity matrix...\n",
      "Done computing similarity matrix.\n",
      "Computing the msd similarity matrix...\n",
      "Done computing similarity matrix.\n",
      "Computing the msd similarity matrix...\n",
      "Done computing similarity matrix.\n",
      "Computing the msd similarity matrix...\n",
      "Done computing similarity matrix.\n",
      "Computing the msd similarity matrix...\n",
      "Done computing similarity matrix.\n",
      "Computing the msd similarity matrix...\n",
      "Done computing similarity matrix.\n",
      "Computing the msd similarity matrix...\n",
      "Done computing similarity matrix.\n",
      "Computing the msd similarity matrix...\n",
      "Done computing similarity matrix.\n",
      "Computing the msd similarity matrix...\n",
      "Done computing similarity matrix.\n",
      "Computing the msd similarity matrix...\n",
      "Done computing similarity matrix.\n",
      "Computing the msd similarity matrix...\n",
      "Done computing similarity matrix.\n",
      "Computing the msd similarity matrix...\n",
      "Done computing similarity matrix.\n",
      "Computing the msd similarity matrix...\n",
      "Done computing similarity matrix.\n",
      "Computing the msd similarity matrix...\n",
      "Done computing similarity matrix.\n",
      "Computing the msd similarity matrix...\n",
      "Done computing similarity matrix.\n",
      "Computing the msd similarity matrix...\n",
      "Done computing similarity matrix.\n",
      "Best RMSE:  0.9573157317779345\n",
      "RMSE Params:  {'n_epochs': 5, 'lr_all': 0.002, 'reg_all': 0.4}\n",
      "Best MAE =  0.7347617105765444\n",
      "MAE Params:  {'n_epochs': 5, 'lr_all': 0.002, 'reg_all': 0.4}\n"
     ]
    }
   ],
   "source": [
    "# Tune with GridSearchCV to see if results are improved\n",
    "param_grid = {'n_epochs': [5,10], 'lr_all': [0.002, 0.005], 'reg_all': [0.4, 0.6]}\n",
    "\n",
    "gs = GridSearchCV(KNNBasic, param_grid, measures=['rmse', 'mae'], cv=3)\n",
    "gs.fit(data)\n",
    "\n",
    "# Show best score and parameters that gave best rmse\n",
    "print(\"Best RMSE: \", gs.best_score['rmse'])\n",
    "print(\"RMSE Params: \", gs.best_params['rmse'])\n",
    "print(\"Best MAE = \", gs.best_score['mae'])\n",
    "print(\"MAE Params: \", gs.best_params['mae'])"
   ]
  },
  {
   "cell_type": "code",
   "execution_count": 8,
   "metadata": {},
   "outputs": [
    {
     "name": "stdout",
     "output_type": "stream",
     "text": [
      "Computing the cosine similarity matrix...\n",
      "Done computing similarity matrix.\n",
      "Computing the cosine similarity matrix...\n",
      "Done computing similarity matrix.\n",
      "Computing the cosine similarity matrix...\n",
      "Done computing similarity matrix.\n",
      "Computing the cosine similarity matrix...\n",
      "Done computing similarity matrix.\n",
      "Computing the cosine similarity matrix...\n",
      "Done computing similarity matrix.\n",
      "Evaluating RMSE, MAE of algorithm KNNBasic on 5 split(s).\n",
      "\n",
      "                  Fold 1  Fold 2  Fold 3  Fold 4  Fold 5  Mean    Std     \n",
      "RMSE (testset)    0.9776  0.9662  0.9679  0.9701  0.9782  0.9720  0.0050  \n",
      "MAE (testset)     0.7518  0.7441  0.7473  0.7463  0.7539  0.7487  0.0036  \n",
      "Fit time          0.41    0.45    0.43    0.45    0.44    0.44    0.01    \n",
      "Test time         1.12    1.12    1.19    1.18    1.11    1.14    0.03    \n"
     ]
    },
    {
     "data": {
      "text/plain": [
       "{'test_rmse': array([0.97758554, 0.96620516, 0.96791647, 0.9701301 , 0.97820016]),\n",
       " 'test_mae': array([0.75176017, 0.74413448, 0.7472585 , 0.74631822, 0.753903  ]),\n",
       " 'fit_time': (0.41201281547546387,\n",
       "  0.4501481056213379,\n",
       "  0.4341144561767578,\n",
       "  0.4452364444732666,\n",
       "  0.43535733222961426),\n",
       " 'test_time': (1.1167235374450684,\n",
       "  1.1234185695648193,\n",
       "  1.1918399333953857,\n",
       "  1.180553913116455,\n",
       "  1.1120951175689697)}"
      ]
     },
     "execution_count": 8,
     "metadata": {},
     "output_type": "execute_result"
    }
   ],
   "source": [
    "#Basic Knn using cosine similarity\n",
    "\n",
    "sim_options = {'name': 'cosine', 'item_based': False}\n",
    "\n",
    "algo = KNNBasic(sim_options=sim_options)\n",
    "\n",
    "# Run 5-fold cross-validation and print results\n",
    "cross_validate(algo, data, measures=['RMSE', 'MAE'], cv=5, verbose=True)"
   ]
  },
  {
   "cell_type": "code",
   "execution_count": null,
   "metadata": {},
   "outputs": [],
   "source": []
  },
  {
   "cell_type": "code",
   "execution_count": null,
   "metadata": {},
   "outputs": [],
   "source": []
  },
  {
   "cell_type": "markdown",
   "metadata": {},
   "source": [
    "Data Source:\n",
    "\n",
    "F. Maxwell Harper and Joseph A. Konstan. 2015. The MovieLens Datasets: History and Context. ACM Transactions on Interactive Intelligent Systems (TiiS) 5, 4: 19:1–19:19. https://doi.org/10.1145/2827872\n",
    "\n",
    "Data retrieved from https://grouplens.org/datasets/movielens/ on March 28, 2021"
   ]
  },
  {
   "cell_type": "code",
   "execution_count": null,
   "metadata": {},
   "outputs": [],
   "source": []
  }
 ],
 "metadata": {
  "kernelspec": {
   "display_name": "Python 3",
   "language": "python",
   "name": "python3"
  },
  "language_info": {
   "codemirror_mode": {
    "name": "ipython",
    "version": 3
   },
   "file_extension": ".py",
   "mimetype": "text/x-python",
   "name": "python",
   "nbconvert_exporter": "python",
   "pygments_lexer": "ipython3",
   "version": "3.8.5"
  }
 },
 "nbformat": 4,
 "nbformat_minor": 4
}
