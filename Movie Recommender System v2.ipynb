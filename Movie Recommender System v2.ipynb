{
 "cells": [
  {
   "cell_type": "code",
   "execution_count": 1,
   "metadata": {},
   "outputs": [],
   "source": [
    "#import pandas as pd\n",
    "import os\n",
    "from surprise import SVD, KNNBasic\n",
    "from surprise import Dataset, Reader\n",
    "from surprise import BaselineOnly\n",
    "from surprise.model_selection import cross_validate, GridSearchCV"
   ]
  },
  {
   "cell_type": "code",
   "execution_count": 2,
   "metadata": {},
   "outputs": [],
   "source": [
    "# specify where file is\n",
    "filepath = os.path.expanduser('/Users/djdit/OneDrive - University of South Florida/Data Mining/Project/Movie-Recommendation-System/ml-latest-small/ratings.csv')\n",
    "\n",
    "#Define reader (Dataset package requirement for reading  in file)\n",
    "#Defining columns, seperator, rating scale, and skipping 1st row since it is headers\n",
    "reader = Reader(line_format = 'user item rating timestamp', sep = ',', rating_scale=(1,5), skip_lines=1)"
   ]
  },
  {
   "cell_type": "code",
   "execution_count": 3,
   "metadata": {},
   "outputs": [],
   "source": [
    "# Load in dataset object\n",
    "data = Dataset.load_from_file(filepath, reader=reader )"
   ]
  },
  {
   "cell_type": "code",
   "execution_count": 6,
   "metadata": {},
   "outputs": [
    {
     "name": "stdout",
     "output_type": "stream",
     "text": [
      "Computing the cosine similarity matrix...\n",
      "Done computing similarity matrix.\n",
      "Computing the cosine similarity matrix...\n",
      "Done computing similarity matrix.\n",
      "Computing the cosine similarity matrix...\n",
      "Done computing similarity matrix.\n",
      "Computing the cosine similarity matrix...\n",
      "Done computing similarity matrix.\n",
      "Computing the cosine similarity matrix...\n",
      "Done computing similarity matrix.\n",
      "Evaluating RMSE, MAE of algorithm KNNBasic on 5 split(s).\n",
      "\n",
      "                  Fold 1  Fold 2  Fold 3  Fold 4  Fold 5  Mean    Std     \n",
      "RMSE (testset)    0.9778  0.9749  0.9672  0.9799  0.9778  0.9755  0.0045  \n",
      "MAE (testset)     0.7618  0.7599  0.7531  0.7629  0.7636  0.7603  0.0038  \n",
      "Fit time          18.44   17.78   19.77   19.35   19.48   18.97   0.74    \n",
      "Test time         7.99    7.49    8.05    9.09    7.11    7.94    0.67    \n"
     ]
    },
    {
     "data": {
      "text/plain": [
       "{'test_rmse': array([0.97783362, 0.97493291, 0.9671894 , 0.97990287, 0.97775666]),\n",
       " 'test_mae': array([0.76183444, 0.75991673, 0.7531063 , 0.76291605, 0.76361383]),\n",
       " 'fit_time': (18.436877489089966,\n",
       "  17.782174587249756,\n",
       "  19.77057719230652,\n",
       "  19.351008892059326,\n",
       "  19.48454999923706),\n",
       " 'test_time': (7.988919734954834,\n",
       "  7.491938591003418,\n",
       "  8.046249389648438,\n",
       "  9.086158752441406,\n",
       "  7.10959267616272)}"
      ]
     },
     "execution_count": 6,
     "metadata": {},
     "output_type": "execute_result"
    }
   ],
   "source": [
    "#Basic Knn using cosine similarity\n",
    "\n",
    "sim_options = {'name': 'cosine', 'user_based': False}\n",
    "\n",
    "algo = KNNBasic(sim_options=sim_options)\n",
    "\n",
    "# Run 5-fold cross-validation and print results\n",
    "cross_validate(algo, data, measures=['RMSE', 'MAE'], cv=5, verbose=True)"
   ]
  },
  {
   "cell_type": "code",
   "execution_count": 7,
   "metadata": {},
   "outputs": [
    {
     "name": "stdout",
     "output_type": "stream",
     "text": [
      "Computing the cosine similarity matrix...\n",
      "Done computing similarity matrix.\n",
      "Computing the cosine similarity matrix...\n",
      "Done computing similarity matrix.\n",
      "Computing the cosine similarity matrix...\n",
      "Done computing similarity matrix.\n",
      "Computing the cosine similarity matrix...\n",
      "Done computing similarity matrix.\n",
      "Computing the cosine similarity matrix...\n",
      "Done computing similarity matrix.\n",
      "Evaluating RMSE, MAE of algorithm KNNBasic on 5 split(s).\n",
      "\n",
      "                  Fold 1  Fold 2  Fold 3  Fold 4  Fold 5  Mean    Std     \n",
      "RMSE (testset)    0.9733  0.9681  0.9742  0.9812  0.9661  0.9726  0.0053  \n",
      "MAE (testset)     0.7519  0.7462  0.7485  0.7545  0.7438  0.7490  0.0038  \n",
      "Fit time          0.50    0.52    0.64    0.67    0.63    0.59    0.07    \n",
      "Test time         1.46    1.53    1.71    1.51    1.99    1.64    0.19    \n"
     ]
    },
    {
     "data": {
      "text/plain": [
       "{'test_rmse': array([0.97333982, 0.96806268, 0.97418759, 0.9812395 , 0.96612893]),\n",
       " 'test_mae': array([0.75188965, 0.74619333, 0.74845266, 0.75451917, 0.74384553]),\n",
       " 'fit_time': (0.4993011951446533,\n",
       "  0.521115779876709,\n",
       "  0.6371726989746094,\n",
       "  0.6661233901977539,\n",
       "  0.6286945343017578),\n",
       " 'test_time': (1.4637563228607178,\n",
       "  1.5271451473236084,\n",
       "  1.7121837139129639,\n",
       "  1.5129914283752441,\n",
       "  1.9913702011108398)}"
      ]
     },
     "execution_count": 7,
     "metadata": {},
     "output_type": "execute_result"
    }
   ],
   "source": [
    "#Basic Knn using cosine similarity\n",
    "\n",
    "sim_options = {'name': 'cosine', 'user_based': True}\n",
    "\n",
    "algo = KNNBasic(sim_options=sim_options)\n",
    "\n",
    "# Run 5-fold cross-validation and print results\n",
    "cross_validate(algo, data, measures=['RMSE', 'MAE'], cv=5, verbose=True)"
   ]
  },
  {
   "cell_type": "code",
   "execution_count": 8,
   "metadata": {
    "scrolled": false
   },
   "outputs": [
    {
     "name": "stdout",
     "output_type": "stream",
     "text": [
      "Computing the msd similarity matrix...\n",
      "Done computing similarity matrix.\n",
      "Computing the msd similarity matrix...\n",
      "Done computing similarity matrix.\n",
      "Computing the msd similarity matrix...\n",
      "Done computing similarity matrix.\n",
      "Computing the msd similarity matrix...\n",
      "Done computing similarity matrix.\n",
      "Computing the msd similarity matrix...\n",
      "Done computing similarity matrix.\n",
      "Computing the msd similarity matrix...\n",
      "Done computing similarity matrix.\n",
      "Computing the msd similarity matrix...\n",
      "Done computing similarity matrix.\n",
      "Computing the msd similarity matrix...\n",
      "Done computing similarity matrix.\n",
      "Computing the msd similarity matrix...\n",
      "Done computing similarity matrix.\n",
      "Computing the msd similarity matrix...\n",
      "Done computing similarity matrix.\n",
      "Computing the msd similarity matrix...\n",
      "Done computing similarity matrix.\n",
      "Computing the msd similarity matrix...\n",
      "Done computing similarity matrix.\n",
      "Computing the msd similarity matrix...\n",
      "Done computing similarity matrix.\n",
      "Computing the msd similarity matrix...\n",
      "Done computing similarity matrix.\n",
      "Computing the msd similarity matrix...\n",
      "Done computing similarity matrix.\n",
      "Computing the msd similarity matrix...\n",
      "Done computing similarity matrix.\n",
      "Computing the msd similarity matrix...\n",
      "Done computing similarity matrix.\n",
      "Computing the msd similarity matrix...\n",
      "Done computing similarity matrix.\n",
      "Computing the msd similarity matrix...\n",
      "Done computing similarity matrix.\n",
      "Computing the msd similarity matrix...\n",
      "Done computing similarity matrix.\n",
      "Computing the msd similarity matrix...\n",
      "Done computing similarity matrix.\n",
      "Computing the msd similarity matrix...\n",
      "Done computing similarity matrix.\n",
      "Computing the msd similarity matrix...\n",
      "Done computing similarity matrix.\n",
      "Computing the msd similarity matrix...\n",
      "Done computing similarity matrix.\n",
      "Computing the msd similarity matrix...\n",
      "Done computing similarity matrix.\n",
      "Computing the msd similarity matrix...\n",
      "Done computing similarity matrix.\n",
      "Computing the msd similarity matrix...\n",
      "Done computing similarity matrix.\n",
      "Computing the msd similarity matrix...\n",
      "Done computing similarity matrix.\n",
      "Computing the msd similarity matrix...\n",
      "Done computing similarity matrix.\n",
      "Computing the msd similarity matrix...\n",
      "Done computing similarity matrix.\n",
      "Computing the msd similarity matrix...\n",
      "Done computing similarity matrix.\n",
      "Computing the msd similarity matrix...\n",
      "Done computing similarity matrix.\n",
      "Computing the msd similarity matrix...\n",
      "Done computing similarity matrix.\n",
      "Computing the msd similarity matrix...\n",
      "Done computing similarity matrix.\n",
      "Computing the msd similarity matrix...\n",
      "Done computing similarity matrix.\n",
      "Computing the msd similarity matrix...\n",
      "Done computing similarity matrix.\n",
      "Computing the msd similarity matrix...\n",
      "Done computing similarity matrix.\n",
      "Computing the msd similarity matrix...\n",
      "Done computing similarity matrix.\n",
      "Computing the msd similarity matrix...\n",
      "Done computing similarity matrix.\n",
      "Computing the msd similarity matrix...\n",
      "Done computing similarity matrix.\n",
      "Best RMSE:  0.9463981470334168\n",
      "RMSE Params:  {'n_epochs': 5, 'lr_all': 0.002, 'reg_all': 0.4}\n",
      "Best MAE =  0.7253927910936966\n",
      "MAE Params:  {'n_epochs': 5, 'lr_all': 0.002, 'reg_all': 0.4}\n"
     ]
    }
   ],
   "source": [
    "# Tune with GridSearchCV to see if results are improved\n",
    "param_grid = {'n_epochs': [5,10], 'lr_all': [0.002, 0.005], 'reg_all': [0.4, 0.6]}\n",
    "\n",
    "gs = GridSearchCV(KNNBasic, param_grid, measures=['rmse', 'mae'], cv=5)\n",
    "gs.fit(data)\n",
    "\n",
    "# Show best score and parameters that gave best rmse\n",
    "print(\"Best RMSE: \", gs.best_score['rmse'])\n",
    "print(\"RMSE Params: \", gs.best_params['rmse'])\n",
    "print(\"Best MAE = \", gs.best_score['mae'])\n",
    "print(\"MAE Params: \", gs.best_params['mae'])"
   ]
  },
  {
   "cell_type": "code",
   "execution_count": 9,
   "metadata": {},
   "outputs": [
    {
     "name": "stdout",
     "output_type": "stream",
     "text": [
      "Computing the pearson similarity matrix...\n",
      "Done computing similarity matrix.\n",
      "Computing the pearson similarity matrix...\n",
      "Done computing similarity matrix.\n",
      "Computing the pearson similarity matrix...\n",
      "Done computing similarity matrix.\n",
      "Computing the pearson similarity matrix...\n",
      "Done computing similarity matrix.\n",
      "Computing the pearson similarity matrix...\n",
      "Done computing similarity matrix.\n",
      "Evaluating RMSE, MAE of algorithm KNNBasic on 5 split(s).\n",
      "\n",
      "                  Fold 1  Fold 2  Fold 3  Fold 4  Fold 5  Mean    Std     \n",
      "RMSE (testset)    0.9732  0.9693  0.9731  0.9636  0.9706  0.9700  0.0035  \n",
      "MAE (testset)     0.7565  0.7519  0.7551  0.7470  0.7564  0.7534  0.0036  \n",
      "Fit time          28.29   29.50   26.14   23.17   25.45   26.51   2.21    \n",
      "Test time         9.77    8.83    8.52    8.26    8.32    8.74    0.55    \n"
     ]
    },
    {
     "data": {
      "text/plain": [
       "{'test_rmse': array([0.97319648, 0.96928492, 0.97310461, 0.96362693, 0.97057837]),\n",
       " 'test_mae': array([0.75649811, 0.75194754, 0.75509975, 0.74701867, 0.75638141]),\n",
       " 'fit_time': (28.289485454559326,\n",
       "  29.499902725219727,\n",
       "  26.140767812728882,\n",
       "  23.174273252487183,\n",
       "  25.45171093940735),\n",
       " 'test_time': (9.766348361968994,\n",
       "  8.830687999725342,\n",
       "  8.516453981399536,\n",
       "  8.258260726928711,\n",
       "  8.324034214019775)}"
      ]
     },
     "execution_count": 9,
     "metadata": {},
     "output_type": "execute_result"
    }
   ],
   "source": [
    "#Basic Knn using pearson similarity\n",
    "\n",
    "sim_options = {'name': 'pearson', 'user_based': False}\n",
    "\n",
    "algo = KNNBasic(sim_options=sim_options)\n",
    "\n",
    "# Run 5-fold cross-validation and print results\n",
    "cross_validate(algo, data, measures=['RMSE', 'MAE'], cv=5, verbose=True)"
   ]
  },
  {
   "cell_type": "code",
   "execution_count": 10,
   "metadata": {},
   "outputs": [
    {
     "name": "stdout",
     "output_type": "stream",
     "text": [
      "Computing the pearson similarity matrix...\n",
      "Done computing similarity matrix.\n",
      "Computing the pearson similarity matrix...\n",
      "Done computing similarity matrix.\n",
      "Computing the pearson similarity matrix...\n",
      "Done computing similarity matrix.\n",
      "Computing the pearson similarity matrix...\n",
      "Done computing similarity matrix.\n",
      "Computing the pearson similarity matrix...\n",
      "Done computing similarity matrix.\n",
      "Evaluating RMSE, MAE of algorithm KNNBasic on 5 split(s).\n",
      "\n",
      "                  Fold 1  Fold 2  Fold 3  Fold 4  Fold 5  Mean    Std     \n",
      "RMSE (testset)    0.9763  0.9730  0.9706  0.9647  0.9770  0.9723  0.0045  \n",
      "MAE (testset)     0.7553  0.7520  0.7471  0.7475  0.7523  0.7508  0.0031  \n",
      "Fit time          0.84    0.72    0.75    0.74    0.75    0.76    0.04    \n",
      "Test time         1.56    1.53    1.58    1.52    1.67    1.57    0.05    \n"
     ]
    },
    {
     "data": {
      "text/plain": [
       "{'test_rmse': array([0.9762947 , 0.97299444, 0.97061268, 0.9646866 , 0.97703834]),\n",
       " 'test_mae': array([0.75530628, 0.75196372, 0.74705126, 0.74749356, 0.75232355]),\n",
       " 'fit_time': (0.8376731872558594,\n",
       "  0.7216942310333252,\n",
       "  0.7451963424682617,\n",
       "  0.7418069839477539,\n",
       "  0.7529392242431641),\n",
       " 'test_time': (1.5617034435272217,\n",
       "  1.5342044830322266,\n",
       "  1.5823233127593994,\n",
       "  1.5181174278259277,\n",
       "  1.6713483333587646)}"
      ]
     },
     "execution_count": 10,
     "metadata": {},
     "output_type": "execute_result"
    }
   ],
   "source": [
    "#Basic Knn using pearson similarity\n",
    "\n",
    "sim_options = {'name': 'pearson', 'user_based': True}\n",
    "\n",
    "algo = KNNBasic(sim_options=sim_options)\n",
    "\n",
    "# Run 5-fold cross-validation and print results\n",
    "cross_validate(algo, data, measures=['RMSE', 'MAE'], cv=5, verbose=True)"
   ]
  },
  {
   "cell_type": "code",
   "execution_count": 4,
   "metadata": {},
   "outputs": [
    {
     "name": "stdout",
     "output_type": "stream",
     "text": [
      "Evaluating RMSE, MAE of algorithm SVD on 5 split(s).\n",
      "\n",
      "                  Fold 1  Fold 2  Fold 3  Fold 4  Fold 5  Mean    Std     \n",
      "RMSE (testset)    0.8778  0.8806  0.8649  0.8759  0.8668  0.8732  0.0062  \n",
      "MAE (testset)     0.6745  0.6742  0.6659  0.6741  0.6676  0.6713  0.0037  \n",
      "Fit time          3.89    4.01    4.07    5.18    6.06    4.64    0.85    \n",
      "Test time         0.16    0.16    0.13    0.30    0.25    0.20    0.06    \n"
     ]
    },
    {
     "data": {
      "text/plain": [
       "{'test_rmse': array([0.87783404, 0.88062249, 0.86489646, 0.8758773 , 0.86676855]),\n",
       " 'test_mae': array([0.67449877, 0.67422408, 0.66594232, 0.67412456, 0.66763761]),\n",
       " 'fit_time': (3.891216993331909,\n",
       "  4.013211727142334,\n",
       "  4.0668652057647705,\n",
       "  5.184238433837891,\n",
       "  6.059356212615967),\n",
       " 'test_time': (0.1594984531402588,\n",
       "  0.15965557098388672,\n",
       "  0.13039159774780273,\n",
       "  0.30138373374938965,\n",
       "  0.24601125717163086)}"
      ]
     },
     "execution_count": 4,
     "metadata": {},
     "output_type": "execute_result"
    }
   ],
   "source": [
    "# Select SVD algorithm\n",
    "algo = SVD()\n",
    "\n",
    "# Run 5-fold cross-validation and print results\n",
    "cross_validate(algo, data, measures=['RMSE', 'MAE'], cv=5, verbose=True)"
   ]
  },
  {
   "cell_type": "code",
   "execution_count": 5,
   "metadata": {},
   "outputs": [
    {
     "name": "stdout",
     "output_type": "stream",
     "text": [
      "Best RMSE:  0.8907163941701057\n",
      "RMSE Params:  {'n_epochs': 10, 'lr_all': 0.005, 'reg_all': 0.4}\n",
      "Best MAE =  0.6895596992047841\n",
      "MAE Params:  {'n_epochs': 10, 'lr_all': 0.005, 'reg_all': 0.4}\n"
     ]
    }
   ],
   "source": [
    "# Tune with GridSearchCV to see if results are improved\n",
    "param_grid = {'n_epochs': [5,10], 'lr_all': [0.002, 0.005], 'reg_all': [0.4, 0.6]}\n",
    "\n",
    "gs = GridSearchCV(SVD, param_grid, measures=['rmse', 'mae'], cv=5)\n",
    "gs.fit(data)\n",
    "\n",
    "# Show best score and parameters that gave best rmse\n",
    "print(\"Best RMSE: \", gs.best_score['rmse'])\n",
    "print(\"RMSE Params: \", gs.best_params['rmse'])\n",
    "print(\"Best MAE = \", gs.best_score['mae'])\n",
    "print(\"MAE Params: \", gs.best_params['mae'])"
   ]
  },
  {
   "cell_type": "markdown",
   "metadata": {},
   "source": [
    "Data Source:\n",
    "\n",
    "F. Maxwell Harper and Joseph A. Konstan. 2015. The MovieLens Datasets: History and Context. ACM Transactions on Interactive Intelligent Systems (TiiS) 5, 4: 19:1–19:19. https://doi.org/10.1145/2827872\n",
    "\n",
    "Data retrieved from https://grouplens.org/datasets/movielens/ on March 28, 2021"
   ]
  },
  {
   "cell_type": "markdown",
   "metadata": {},
   "source": [
    "SVD Algorithm:\n",
    "\n",
    "https://surprise.readthedocs.io/en/stable/matrix_factorization.html#unbiased-note"
   ]
  }
 ],
 "metadata": {
  "kernelspec": {
   "display_name": "Python 3",
   "language": "python",
   "name": "python3"
  },
  "language_info": {
   "codemirror_mode": {
    "name": "ipython",
    "version": 3
   },
   "file_extension": ".py",
   "mimetype": "text/x-python",
   "name": "python",
   "nbconvert_exporter": "python",
   "pygments_lexer": "ipython3",
   "version": "3.8.5"
  }
 },
 "nbformat": 4,
 "nbformat_minor": 4
}
