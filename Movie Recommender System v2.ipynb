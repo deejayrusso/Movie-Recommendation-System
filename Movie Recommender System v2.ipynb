{
 "cells": [
  {
   "cell_type": "code",
   "execution_count": 1,
   "metadata": {},
   "outputs": [],
   "source": [
    "#import pandas as pd\n",
    "import os\n",
    "from surprise import SVD, KNNBasic\n",
    "from surprise import Dataset, Reader\n",
    "from surprise import BaselineOnly\n",
    "from surprise.model_selection import cross_validate, GridSearchCV"
   ]
  },
  {
   "cell_type": "code",
   "execution_count": 3,
   "metadata": {},
   "outputs": [],
   "source": [
    "# specify where file is\n",
    "filepath = os.path.expanduser('/Users/djdit/OneDrive - University of South Florida/Data Mining/Project/Movie-Recommendation-System/ml-latest-small/ratings.csv')\n",
    "\n",
    "#Define reader (Dataset package requirement for reading  in file)\n",
    "#Defining columns, seperator, rating scale, and skipping 1st row since it is headers\n",
    "reader = Reader(line_format = 'user item rating timestamp', sep = ',', rating_scale=(1,5), skip_lines=1)"
   ]
  },
  {
   "cell_type": "code",
   "execution_count": 4,
   "metadata": {},
   "outputs": [],
   "source": [
    "# Load in dataset object\n",
    "data = Dataset.load_from_file(filepath, reader=reader )"
   ]
  },
  {
   "cell_type": "markdown",
   "metadata": {},
   "source": [
    "SVD Algorithm:\n",
    "\n",
    "https://surprise.readthedocs.io/en/stable/matrix_factorization.html#unbiased-note"
   ]
  },
  {
   "cell_type": "code",
   "execution_count": 7,
   "metadata": {},
   "outputs": [
    {
     "name": "stdout",
     "output_type": "stream",
     "text": [
      "Evaluating RMSE, MAE of algorithm SVD on 5 split(s).\n",
      "\n",
      "                  Fold 1  Fold 2  Fold 3  Fold 4  Fold 5  Mean    Std     \n",
      "RMSE (testset)    0.8774  0.8763  0.8673  0.8765  0.8759  0.8747  0.0037  \n",
      "MAE (testset)     0.6726  0.6738  0.6678  0.6736  0.6717  0.6719  0.0022  \n",
      "Fit time          3.44    3.37    3.39    3.39    3.39    3.40    0.02    \n",
      "Test time         0.16    0.15    0.14    0.10    0.13    0.13    0.02    \n"
     ]
    },
    {
     "data": {
      "text/plain": [
       "{'test_rmse': array([0.87742285, 0.87628962, 0.86732505, 0.87649459, 0.87590228]),\n",
       " 'test_mae': array([0.67259392, 0.67384557, 0.66782088, 0.67360398, 0.67174607]),\n",
       " 'fit_time': (3.4414522647857666,\n",
       "  3.3710803985595703,\n",
       "  3.386505365371704,\n",
       "  3.393645763397217,\n",
       "  3.391878366470337),\n",
       " 'test_time': (0.156388521194458,\n",
       "  0.14778375625610352,\n",
       "  0.14100265502929688,\n",
       "  0.09799528121948242,\n",
       "  0.13059616088867188)}"
      ]
     },
     "execution_count": 7,
     "metadata": {},
     "output_type": "execute_result"
    }
   ],
   "source": [
    "# Choose SVD algorithm\n",
    "algo = SVD()\n",
    "\n",
    "# Run 5-fold cross-validation and print results\n",
    "cross_validate(algo, data, measures=['RMSE', 'MAE'], cv=5, verbose=True)"
   ]
  },
  {
   "cell_type": "code",
   "execution_count": 8,
   "metadata": {},
   "outputs": [
    {
     "name": "stdout",
     "output_type": "stream",
     "text": [
      "Best RMSE:  0.89001546667103\n",
      "RMSE Params:  {'n_epochs': 10, 'lr_all': 0.005, 'reg_all': 0.4}\n",
      "Best MAE =  0.6886823524289071\n",
      "MAE Params:  {'n_epochs': 10, 'lr_all': 0.005, 'reg_all': 0.4}\n"
     ]
    }
   ],
   "source": [
    "# Tune with GridSearchCV to see if results are improved\n",
    "param_grid = {'n_epochs': [5,10], 'lr_all': [0.002, 0.005], 'reg_all': [0.4, 0.6]}\n",
    "\n",
    "gs = GridSearchCV(SVD, param_grid, measures=['rmse', 'mae'], cv=5)\n",
    "gs.fit(data)\n",
    "\n",
    "# Show best score and parameters that gave best rmse\n",
    "print(\"Best RMSE: \", gs.best_score['rmse'])\n",
    "print(\"RMSE Params: \", gs.best_params['rmse'])\n",
    "print(\"Best MAE = \", gs.best_score['mae'])\n",
    "print(\"MAE Params: \", gs.best_params['mae'])"
   ]
  },
  {
   "cell_type": "code",
   "execution_count": 5,
   "metadata": {},
   "outputs": [
    {
     "name": "stdout",
     "output_type": "stream",
     "text": [
      "Computing the cosine similarity matrix...\n",
      "Done computing similarity matrix.\n",
      "Computing the cosine similarity matrix...\n",
      "Done computing similarity matrix.\n",
      "Computing the cosine similarity matrix...\n",
      "Done computing similarity matrix.\n",
      "Computing the cosine similarity matrix...\n",
      "Done computing similarity matrix.\n",
      "Computing the cosine similarity matrix...\n",
      "Done computing similarity matrix.\n",
      "Evaluating RMSE, MAE of algorithm KNNBasic on 5 split(s).\n",
      "\n",
      "                  Fold 1  Fold 2  Fold 3  Fold 4  Fold 5  Mean    Std     \n",
      "RMSE (testset)    0.9815  0.9789  0.9750  0.9708  0.9761  0.9765  0.0036  \n",
      "MAE (testset)     0.7662  0.7631  0.7578  0.7557  0.7596  0.7605  0.0038  \n",
      "Fit time          15.18   14.94   14.55   15.11   14.60   14.88   0.26    \n",
      "Test time         5.94    6.29    5.96    5.89    5.92    6.00    0.15    \n"
     ]
    },
    {
     "data": {
      "text/plain": [
       "{'test_rmse': array([0.98154912, 0.97890004, 0.97500174, 0.97082251, 0.97613569]),\n",
       " 'test_mae': array([0.76620128, 0.76314713, 0.757763  , 0.75573348, 0.75963838]),\n",
       " 'fit_time': (15.183752536773682,\n",
       "  14.941388845443726,\n",
       "  14.5520179271698,\n",
       "  15.11218810081482,\n",
       "  14.598479270935059),\n",
       " 'test_time': (5.9407055377960205,\n",
       "  6.286655426025391,\n",
       "  5.963624954223633,\n",
       "  5.886139631271362,\n",
       "  5.921049118041992)}"
      ]
     },
     "execution_count": 5,
     "metadata": {},
     "output_type": "execute_result"
    }
   ],
   "source": [
    "#Basic Knn using cosine similarity\n",
    "\n",
    "sim_options = {'name': 'cosine', 'user_based': False}\n",
    "\n",
    "algo = KNNBasic(sim_options=sim_options)\n",
    "\n",
    "# Run 5-fold cross-validation and print results\n",
    "cross_validate(algo, data, measures=['RMSE', 'MAE'], cv=5, verbose=True)"
   ]
  },
  {
   "cell_type": "code",
   "execution_count": 19,
   "metadata": {},
   "outputs": [
    {
     "name": "stdout",
     "output_type": "stream",
     "text": [
      "Computing the msd similarity matrix...\n",
      "Done computing similarity matrix.\n",
      "Computing the msd similarity matrix...\n",
      "Done computing similarity matrix.\n",
      "Computing the msd similarity matrix...\n",
      "Done computing similarity matrix.\n",
      "Computing the msd similarity matrix...\n",
      "Done computing similarity matrix.\n",
      "Computing the msd similarity matrix...\n",
      "Done computing similarity matrix.\n",
      "Computing the msd similarity matrix...\n",
      "Done computing similarity matrix.\n",
      "Computing the msd similarity matrix...\n",
      "Done computing similarity matrix.\n",
      "Computing the msd similarity matrix...\n",
      "Done computing similarity matrix.\n",
      "Computing the msd similarity matrix...\n",
      "Done computing similarity matrix.\n",
      "Computing the msd similarity matrix...\n",
      "Done computing similarity matrix.\n",
      "Computing the msd similarity matrix...\n",
      "Done computing similarity matrix.\n",
      "Computing the msd similarity matrix...\n",
      "Done computing similarity matrix.\n",
      "Computing the msd similarity matrix...\n",
      "Done computing similarity matrix.\n",
      "Computing the msd similarity matrix...\n",
      "Done computing similarity matrix.\n",
      "Computing the msd similarity matrix...\n",
      "Done computing similarity matrix.\n",
      "Computing the msd similarity matrix...\n",
      "Done computing similarity matrix.\n",
      "Computing the msd similarity matrix...\n",
      "Done computing similarity matrix.\n",
      "Computing the msd similarity matrix...\n",
      "Done computing similarity matrix.\n",
      "Computing the msd similarity matrix...\n",
      "Done computing similarity matrix.\n",
      "Computing the msd similarity matrix...\n",
      "Done computing similarity matrix.\n",
      "Computing the msd similarity matrix...\n",
      "Done computing similarity matrix.\n",
      "Computing the msd similarity matrix...\n",
      "Done computing similarity matrix.\n",
      "Computing the msd similarity matrix...\n",
      "Done computing similarity matrix.\n",
      "Computing the msd similarity matrix...\n",
      "Done computing similarity matrix.\n",
      "Best RMSE:  0.9564186524747735\n",
      "RMSE Params:  {'n_epochs': 5, 'lr_all': 0.002, 'reg_all': 0.4}\n",
      "Best MAE =  0.7345453653307735\n",
      "MAE Params:  {'n_epochs': 5, 'lr_all': 0.002, 'reg_all': 0.4}\n"
     ]
    }
   ],
   "source": [
    "# Tune with GridSearchCV to see if results are improved\n",
    "param_grid = {'n_epochs': [5,10], 'lr_all': [0.002, 0.005], 'reg_all': [0.4, 0.6]}\n",
    "\n",
    "gs = GridSearchCV(KNNBasic, param_grid, measures=['rmse', 'mae'], cv=3)\n",
    "gs.fit(data)\n",
    "\n",
    "# Show best score and parameters that gave best rmse\n",
    "print(\"Best RMSE: \", gs.best_score['rmse'])\n",
    "print(\"RMSE Params: \", gs.best_params['rmse'])\n",
    "print(\"Best MAE = \", gs.best_score['mae'])\n",
    "print(\"MAE Params: \", gs.best_params['mae'])"
   ]
  },
  {
   "cell_type": "code",
   "execution_count": 6,
   "metadata": {},
   "outputs": [
    {
     "name": "stdout",
     "output_type": "stream",
     "text": [
      "Computing the cosine similarity matrix...\n",
      "Done computing similarity matrix.\n",
      "Computing the cosine similarity matrix...\n",
      "Done computing similarity matrix.\n",
      "Computing the cosine similarity matrix...\n",
      "Done computing similarity matrix.\n",
      "Computing the cosine similarity matrix...\n",
      "Done computing similarity matrix.\n",
      "Computing the cosine similarity matrix...\n",
      "Done computing similarity matrix.\n",
      "Evaluating RMSE, MAE of algorithm KNNBasic on 5 split(s).\n",
      "\n",
      "                  Fold 1  Fold 2  Fold 3  Fold 4  Fold 5  Mean    Std     \n",
      "RMSE (testset)    0.9668  0.9744  0.9710  0.9726  0.9751  0.9720  0.0029  \n",
      "MAE (testset)     0.7448  0.7487  0.7487  0.7486  0.7511  0.7484  0.0020  \n",
      "Fit time          0.46    0.48    0.48    0.47    0.48    0.47    0.01    \n",
      "Test time         1.30    1.30    1.25    1.28    1.30    1.28    0.02    \n"
     ]
    },
    {
     "data": {
      "text/plain": [
       "{'test_rmse': array([0.96682329, 0.97436226, 0.97101997, 0.97259629, 0.97506909]),\n",
       " 'test_mae': array([0.74482789, 0.74868452, 0.74865663, 0.74856314, 0.75108339]),\n",
       " 'fit_time': (0.45949530601501465,\n",
       "  0.48102903366088867,\n",
       "  0.47939109802246094,\n",
       "  0.46973443031311035,\n",
       "  0.4824814796447754),\n",
       " 'test_time': (1.3036189079284668,\n",
       "  1.2971348762512207,\n",
       "  1.2455708980560303,\n",
       "  1.2797329425811768,\n",
       "  1.297943353652954)}"
      ]
     },
     "execution_count": 6,
     "metadata": {},
     "output_type": "execute_result"
    }
   ],
   "source": [
    "#Basic Knn using cosine similarity\n",
    "\n",
    "sim_options = {'name': 'cosine', 'item_based': False}\n",
    "\n",
    "algo = KNNBasic(sim_options=sim_options)\n",
    "\n",
    "# Run 5-fold cross-validation and print results\n",
    "cross_validate(algo, data, measures=['RMSE', 'MAE'], cv=5, verbose=True)"
   ]
  },
  {
   "cell_type": "code",
   "execution_count": null,
   "metadata": {},
   "outputs": [],
   "source": []
  },
  {
   "cell_type": "code",
   "execution_count": null,
   "metadata": {},
   "outputs": [],
   "source": []
  },
  {
   "cell_type": "markdown",
   "metadata": {},
   "source": [
    "Data Source:\n",
    "\n",
    "F. Maxwell Harper and Joseph A. Konstan. 2015. The MovieLens Datasets: History and Context. ACM Transactions on Interactive Intelligent Systems (TiiS) 5, 4: 19:1–19:19. https://doi.org/10.1145/2827872\n",
    "\n",
    "Data retrieved from https://grouplens.org/datasets/movielens/ on March 28, 2021"
   ]
  },
  {
   "cell_type": "code",
   "execution_count": null,
   "metadata": {},
   "outputs": [],
   "source": []
  }
 ],
 "metadata": {
  "kernelspec": {
   "display_name": "Python 3",
   "language": "python",
   "name": "python3"
  },
  "language_info": {
   "codemirror_mode": {
    "name": "ipython",
    "version": 3
   },
   "file_extension": ".py",
   "mimetype": "text/x-python",
   "name": "python",
   "nbconvert_exporter": "python",
   "pygments_lexer": "ipython3",
   "version": "3.8.5"
  }
 },
 "nbformat": 4,
 "nbformat_minor": 4
}
