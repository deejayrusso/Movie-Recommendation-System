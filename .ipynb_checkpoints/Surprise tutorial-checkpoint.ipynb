{
 "cells": [
  {
   "cell_type": "code",
   "execution_count": 1,
   "metadata": {},
   "outputs": [],
   "source": [
    "from surprise import SVD\n",
    "from surprise import Dataset\n",
    "from surprise.model_selection import cross_validate"
   ]
  },
  {
   "cell_type": "code",
   "execution_count": 3,
   "metadata": {},
   "outputs": [],
   "source": [
    "# Load the movielens-100k dataset (download it if needed).\n",
    "data = Dataset.load_builtin('ml-100k')\n"
   ]
  },
  {
   "cell_type": "code",
   "execution_count": 4,
   "metadata": {},
   "outputs": [],
   "source": [
    "# Use the famous SVD algorithm.\n",
    "algo = SVD()"
   ]
  },
  {
   "cell_type": "code",
   "execution_count": 5,
   "metadata": {},
   "outputs": [
    {
     "name": "stdout",
     "output_type": "stream",
     "text": [
      "Evaluating RMSE, MAE of algorithm SVD on 5 split(s).\n",
      "\n",
      "                  Fold 1  Fold 2  Fold 3  Fold 4  Fold 5  Mean    Std     \n",
      "RMSE (testset)    0.9409  0.9360  0.9382  0.9313  0.9348  0.9363  0.0032  \n",
      "MAE (testset)     0.7450  0.7387  0.7390  0.7294  0.7384  0.7381  0.0050  \n",
      "Fit time          3.84    4.08    3.75    3.73    3.73    3.83    0.13    \n",
      "Test time         0.16    0.12    0.13    0.10    0.12    0.12    0.02    \n"
     ]
    },
    {
     "data": {
      "text/plain": [
       "{'test_rmse': array([0.9409364 , 0.93601127, 0.93817767, 0.93129908, 0.93484235]),\n",
       " 'test_mae': array([0.74500603, 0.73865044, 0.73897806, 0.72943888, 0.73837882]),\n",
       " 'fit_time': (3.840437412261963,\n",
       "  4.081766128540039,\n",
       "  3.7547361850738525,\n",
       "  3.7348825931549072,\n",
       "  3.7328202724456787),\n",
       " 'test_time': (0.15945887565612793,\n",
       "  0.11605668067932129,\n",
       "  0.12658381462097168,\n",
       "  0.09699463844299316,\n",
       "  0.12009644508361816)}"
      ]
     },
     "execution_count": 5,
     "metadata": {},
     "output_type": "execute_result"
    }
   ],
   "source": [
    "# Run 5-fold cross-validation and print results.\n",
    "cross_validate(algo, data, measures=['RMSE', 'MAE'], cv=5, verbose=True)"
   ]
  },
  {
   "cell_type": "code",
   "execution_count": 7,
   "metadata": {},
   "outputs": [],
   "source": [
    "from surprise.model_selection import GridSearchCV"
   ]
  },
  {
   "cell_type": "code",
   "execution_count": 9,
   "metadata": {},
   "outputs": [],
   "source": [
    "param_grid = {'n_epochs': [5, 10], 'lr_all': [0.002, 0.005], 'reg_all': [0.4, 0.6]}\n",
    "gs = GridSearchCV(SVD, param_grid, measures=['rmse', 'mae'], cv=3)\n",
    "gs.fit(data)"
   ]
  },
  {
   "cell_type": "code",
   "execution_count": 10,
   "metadata": {},
   "outputs": [
    {
     "name": "stdout",
     "output_type": "stream",
     "text": [
      "0.9637801329566301\n"
     ]
    }
   ],
   "source": [
    "# best RMSE score\n",
    "print(gs.best_score['rmse'])"
   ]
  },
  {
   "cell_type": "code",
   "execution_count": 11,
   "metadata": {},
   "outputs": [
    {
     "name": "stdout",
     "output_type": "stream",
     "text": [
      "{'n_epochs': 10, 'lr_all': 0.005, 'reg_all': 0.4}\n"
     ]
    }
   ],
   "source": [
    "# combination of parameters that gave the best RMSE score\n",
    "print(gs.best_params['rmse'])"
   ]
  },
  {
   "cell_type": "code",
   "execution_count": 12,
   "metadata": {},
   "outputs": [
    {
     "data": {
      "text/plain": [
       "<surprise.prediction_algorithms.matrix_factorization.SVD at 0x25d3c3fae20>"
      ]
     },
     "execution_count": 12,
     "metadata": {},
     "output_type": "execute_result"
    }
   ],
   "source": [
    "# We can now use the algorithm that yields the best rmse:\n",
    "algo = gs.best_estimator['rmse']\n",
    "algo.fit(data.build_full_trainset())"
   ]
  },
  {
   "cell_type": "code",
   "execution_count": 14,
   "metadata": {},
   "outputs": [],
   "source": [
    "import pandas as pd\n",
    "results_df = pd.DataFrame.from_dict(gs.cv_results)"
   ]
  },
  {
   "cell_type": "code",
   "execution_count": 15,
   "metadata": {},
   "outputs": [
    {
     "data": {
      "text/html": [
       "<div>\n",
       "<style scoped>\n",
       "    .dataframe tbody tr th:only-of-type {\n",
       "        vertical-align: middle;\n",
       "    }\n",
       "\n",
       "    .dataframe tbody tr th {\n",
       "        vertical-align: top;\n",
       "    }\n",
       "\n",
       "    .dataframe thead th {\n",
       "        text-align: right;\n",
       "    }\n",
       "</style>\n",
       "<table border=\"1\" class=\"dataframe\">\n",
       "  <thead>\n",
       "    <tr style=\"text-align: right;\">\n",
       "      <th></th>\n",
       "      <th>split0_test_rmse</th>\n",
       "      <th>split1_test_rmse</th>\n",
       "      <th>split2_test_rmse</th>\n",
       "      <th>mean_test_rmse</th>\n",
       "      <th>std_test_rmse</th>\n",
       "      <th>rank_test_rmse</th>\n",
       "      <th>split0_test_mae</th>\n",
       "      <th>split1_test_mae</th>\n",
       "      <th>split2_test_mae</th>\n",
       "      <th>mean_test_mae</th>\n",
       "      <th>std_test_mae</th>\n",
       "      <th>rank_test_mae</th>\n",
       "      <th>mean_fit_time</th>\n",
       "      <th>std_fit_time</th>\n",
       "      <th>mean_test_time</th>\n",
       "      <th>std_test_time</th>\n",
       "      <th>params</th>\n",
       "      <th>param_n_epochs</th>\n",
       "      <th>param_lr_all</th>\n",
       "      <th>param_reg_all</th>\n",
       "    </tr>\n",
       "  </thead>\n",
       "  <tbody>\n",
       "    <tr>\n",
       "      <th>0</th>\n",
       "      <td>0.994065</td>\n",
       "      <td>1.000484</td>\n",
       "      <td>0.997585</td>\n",
       "      <td>0.997378</td>\n",
       "      <td>0.002625</td>\n",
       "      <td>7</td>\n",
       "      <td>0.805854</td>\n",
       "      <td>0.805543</td>\n",
       "      <td>0.806718</td>\n",
       "      <td>0.806038</td>\n",
       "      <td>0.000497</td>\n",
       "      <td>7</td>\n",
       "      <td>0.841784</td>\n",
       "      <td>0.025502</td>\n",
       "      <td>0.230188</td>\n",
       "      <td>0.029757</td>\n",
       "      <td>{'n_epochs': 5, 'lr_all': 0.002, 'reg_all': 0.4}</td>\n",
       "      <td>5</td>\n",
       "      <td>0.002</td>\n",
       "      <td>0.4</td>\n",
       "    </tr>\n",
       "    <tr>\n",
       "      <th>1</th>\n",
       "      <td>0.999936</td>\n",
       "      <td>1.006253</td>\n",
       "      <td>1.003292</td>\n",
       "      <td>1.003160</td>\n",
       "      <td>0.002581</td>\n",
       "      <td>8</td>\n",
       "      <td>0.814226</td>\n",
       "      <td>0.814122</td>\n",
       "      <td>0.815170</td>\n",
       "      <td>0.814506</td>\n",
       "      <td>0.000471</td>\n",
       "      <td>8</td>\n",
       "      <td>0.822612</td>\n",
       "      <td>0.015063</td>\n",
       "      <td>0.225535</td>\n",
       "      <td>0.037408</td>\n",
       "      <td>{'n_epochs': 5, 'lr_all': 0.002, 'reg_all': 0.6}</td>\n",
       "      <td>5</td>\n",
       "      <td>0.002</td>\n",
       "      <td>0.6</td>\n",
       "    </tr>\n",
       "    <tr>\n",
       "      <th>2</th>\n",
       "      <td>0.970355</td>\n",
       "      <td>0.976613</td>\n",
       "      <td>0.973925</td>\n",
       "      <td>0.973631</td>\n",
       "      <td>0.002564</td>\n",
       "      <td>3</td>\n",
       "      <td>0.781266</td>\n",
       "      <td>0.781028</td>\n",
       "      <td>0.783076</td>\n",
       "      <td>0.781790</td>\n",
       "      <td>0.000914</td>\n",
       "      <td>2</td>\n",
       "      <td>0.789614</td>\n",
       "      <td>0.019094</td>\n",
       "      <td>0.241090</td>\n",
       "      <td>0.017107</td>\n",
       "      <td>{'n_epochs': 5, 'lr_all': 0.005, 'reg_all': 0.4}</td>\n",
       "      <td>5</td>\n",
       "      <td>0.005</td>\n",
       "      <td>0.4</td>\n",
       "    </tr>\n",
       "    <tr>\n",
       "      <th>3</th>\n",
       "      <td>0.979073</td>\n",
       "      <td>0.985484</td>\n",
       "      <td>0.982546</td>\n",
       "      <td>0.982368</td>\n",
       "      <td>0.002620</td>\n",
       "      <td>5</td>\n",
       "      <td>0.792069</td>\n",
       "      <td>0.792325</td>\n",
       "      <td>0.793802</td>\n",
       "      <td>0.792732</td>\n",
       "      <td>0.000764</td>\n",
       "      <td>5</td>\n",
       "      <td>0.775163</td>\n",
       "      <td>0.045878</td>\n",
       "      <td>0.221267</td>\n",
       "      <td>0.020754</td>\n",
       "      <td>{'n_epochs': 5, 'lr_all': 0.005, 'reg_all': 0.6}</td>\n",
       "      <td>5</td>\n",
       "      <td>0.005</td>\n",
       "      <td>0.6</td>\n",
       "    </tr>\n",
       "    <tr>\n",
       "      <th>4</th>\n",
       "      <td>0.974592</td>\n",
       "      <td>0.980925</td>\n",
       "      <td>0.978240</td>\n",
       "      <td>0.977919</td>\n",
       "      <td>0.002595</td>\n",
       "      <td>4</td>\n",
       "      <td>0.785609</td>\n",
       "      <td>0.785213</td>\n",
       "      <td>0.787279</td>\n",
       "      <td>0.786034</td>\n",
       "      <td>0.000896</td>\n",
       "      <td>4</td>\n",
       "      <td>1.587670</td>\n",
       "      <td>0.060764</td>\n",
       "      <td>0.211776</td>\n",
       "      <td>0.033201</td>\n",
       "      <td>{'n_epochs': 10, 'lr_all': 0.002, 'reg_all': 0.4}</td>\n",
       "      <td>10</td>\n",
       "      <td>0.002</td>\n",
       "      <td>0.4</td>\n",
       "    </tr>\n",
       "    <tr>\n",
       "      <th>5</th>\n",
       "      <td>0.982813</td>\n",
       "      <td>0.989182</td>\n",
       "      <td>0.986414</td>\n",
       "      <td>0.986136</td>\n",
       "      <td>0.002607</td>\n",
       "      <td>6</td>\n",
       "      <td>0.795960</td>\n",
       "      <td>0.795844</td>\n",
       "      <td>0.797514</td>\n",
       "      <td>0.796439</td>\n",
       "      <td>0.000761</td>\n",
       "      <td>6</td>\n",
       "      <td>1.720859</td>\n",
       "      <td>0.190536</td>\n",
       "      <td>0.244464</td>\n",
       "      <td>0.070193</td>\n",
       "      <td>{'n_epochs': 10, 'lr_all': 0.002, 'reg_all': 0.6}</td>\n",
       "      <td>10</td>\n",
       "      <td>0.002</td>\n",
       "      <td>0.6</td>\n",
       "    </tr>\n",
       "    <tr>\n",
       "      <th>6</th>\n",
       "      <td>0.960716</td>\n",
       "      <td>0.966758</td>\n",
       "      <td>0.963866</td>\n",
       "      <td>0.963780</td>\n",
       "      <td>0.002467</td>\n",
       "      <td>1</td>\n",
       "      <td>0.771927</td>\n",
       "      <td>0.772113</td>\n",
       "      <td>0.773774</td>\n",
       "      <td>0.772605</td>\n",
       "      <td>0.000830</td>\n",
       "      <td>1</td>\n",
       "      <td>1.977869</td>\n",
       "      <td>0.210116</td>\n",
       "      <td>0.239593</td>\n",
       "      <td>0.041171</td>\n",
       "      <td>{'n_epochs': 10, 'lr_all': 0.005, 'reg_all': 0.4}</td>\n",
       "      <td>10</td>\n",
       "      <td>0.005</td>\n",
       "      <td>0.4</td>\n",
       "    </tr>\n",
       "    <tr>\n",
       "      <th>7</th>\n",
       "      <td>0.970472</td>\n",
       "      <td>0.976461</td>\n",
       "      <td>0.973832</td>\n",
       "      <td>0.973588</td>\n",
       "      <td>0.002451</td>\n",
       "      <td>2</td>\n",
       "      <td>0.783514</td>\n",
       "      <td>0.783849</td>\n",
       "      <td>0.785454</td>\n",
       "      <td>0.784272</td>\n",
       "      <td>0.000847</td>\n",
       "      <td>3</td>\n",
       "      <td>1.632751</td>\n",
       "      <td>0.037175</td>\n",
       "      <td>0.226875</td>\n",
       "      <td>0.024939</td>\n",
       "      <td>{'n_epochs': 10, 'lr_all': 0.005, 'reg_all': 0.6}</td>\n",
       "      <td>10</td>\n",
       "      <td>0.005</td>\n",
       "      <td>0.6</td>\n",
       "    </tr>\n",
       "  </tbody>\n",
       "</table>\n",
       "</div>"
      ],
      "text/plain": [
       "   split0_test_rmse  split1_test_rmse  split2_test_rmse  mean_test_rmse  \\\n",
       "0          0.994065          1.000484          0.997585        0.997378   \n",
       "1          0.999936          1.006253          1.003292        1.003160   \n",
       "2          0.970355          0.976613          0.973925        0.973631   \n",
       "3          0.979073          0.985484          0.982546        0.982368   \n",
       "4          0.974592          0.980925          0.978240        0.977919   \n",
       "5          0.982813          0.989182          0.986414        0.986136   \n",
       "6          0.960716          0.966758          0.963866        0.963780   \n",
       "7          0.970472          0.976461          0.973832        0.973588   \n",
       "\n",
       "   std_test_rmse  rank_test_rmse  split0_test_mae  split1_test_mae  \\\n",
       "0       0.002625               7         0.805854         0.805543   \n",
       "1       0.002581               8         0.814226         0.814122   \n",
       "2       0.002564               3         0.781266         0.781028   \n",
       "3       0.002620               5         0.792069         0.792325   \n",
       "4       0.002595               4         0.785609         0.785213   \n",
       "5       0.002607               6         0.795960         0.795844   \n",
       "6       0.002467               1         0.771927         0.772113   \n",
       "7       0.002451               2         0.783514         0.783849   \n",
       "\n",
       "   split2_test_mae  mean_test_mae  std_test_mae  rank_test_mae  mean_fit_time  \\\n",
       "0         0.806718       0.806038      0.000497              7       0.841784   \n",
       "1         0.815170       0.814506      0.000471              8       0.822612   \n",
       "2         0.783076       0.781790      0.000914              2       0.789614   \n",
       "3         0.793802       0.792732      0.000764              5       0.775163   \n",
       "4         0.787279       0.786034      0.000896              4       1.587670   \n",
       "5         0.797514       0.796439      0.000761              6       1.720859   \n",
       "6         0.773774       0.772605      0.000830              1       1.977869   \n",
       "7         0.785454       0.784272      0.000847              3       1.632751   \n",
       "\n",
       "   std_fit_time  mean_test_time  std_test_time  \\\n",
       "0      0.025502        0.230188       0.029757   \n",
       "1      0.015063        0.225535       0.037408   \n",
       "2      0.019094        0.241090       0.017107   \n",
       "3      0.045878        0.221267       0.020754   \n",
       "4      0.060764        0.211776       0.033201   \n",
       "5      0.190536        0.244464       0.070193   \n",
       "6      0.210116        0.239593       0.041171   \n",
       "7      0.037175        0.226875       0.024939   \n",
       "\n",
       "                                              params  param_n_epochs  \\\n",
       "0   {'n_epochs': 5, 'lr_all': 0.002, 'reg_all': 0.4}               5   \n",
       "1   {'n_epochs': 5, 'lr_all': 0.002, 'reg_all': 0.6}               5   \n",
       "2   {'n_epochs': 5, 'lr_all': 0.005, 'reg_all': 0.4}               5   \n",
       "3   {'n_epochs': 5, 'lr_all': 0.005, 'reg_all': 0.6}               5   \n",
       "4  {'n_epochs': 10, 'lr_all': 0.002, 'reg_all': 0.4}              10   \n",
       "5  {'n_epochs': 10, 'lr_all': 0.002, 'reg_all': 0.6}              10   \n",
       "6  {'n_epochs': 10, 'lr_all': 0.005, 'reg_all': 0.4}              10   \n",
       "7  {'n_epochs': 10, 'lr_all': 0.005, 'reg_all': 0.6}              10   \n",
       "\n",
       "   param_lr_all  param_reg_all  \n",
       "0         0.002            0.4  \n",
       "1         0.002            0.6  \n",
       "2         0.005            0.4  \n",
       "3         0.005            0.6  \n",
       "4         0.002            0.4  \n",
       "5         0.002            0.6  \n",
       "6         0.005            0.4  \n",
       "7         0.005            0.6  "
      ]
     },
     "execution_count": 15,
     "metadata": {},
     "output_type": "execute_result"
    }
   ],
   "source": [
    "results_df"
   ]
  },
  {
   "cell_type": "code",
   "execution_count": null,
   "metadata": {},
   "outputs": [],
   "source": []
  }
 ],
 "metadata": {
  "kernelspec": {
   "display_name": "Python 3",
   "language": "python",
   "name": "python3"
  },
  "language_info": {
   "codemirror_mode": {
    "name": "ipython",
    "version": 3
   },
   "file_extension": ".py",
   "mimetype": "text/x-python",
   "name": "python",
   "nbconvert_exporter": "python",
   "pygments_lexer": "ipython3",
   "version": "3.8.5"
  }
 },
 "nbformat": 4,
 "nbformat_minor": 4
}
